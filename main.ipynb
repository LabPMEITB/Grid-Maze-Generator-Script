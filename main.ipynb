{
 "cells": [
  {
   "cell_type": "code",
   "execution_count": 16,
   "id": "4b39085b",
   "metadata": {},
   "outputs": [],
   "source": [
    "## IMPORT LIBRARIES\n",
    "import os\n",
    "import random\n",
    "from datetime import datetime\n",
    "from lib import map_gen"
   ]
  },
  {
   "cell_type": "code",
   "execution_count": 17,
   "id": "21d3788b",
   "metadata": {},
   "outputs": [],
   "source": [
    "## USER DEFINED PARAMETERS\n",
    "### Maze Generator Settings\n",
    "n_maze = 1 # Number of maze that is going to be generated\n",
    "n_act = 4 # Number of action for each state\n",
    "\n",
    "dim = 10\n",
    "nx, ny = dim, dim # Maze dimension. nx for column and ny for row\n",
    "\n",
    "r_default = -1 # Default Reward \n",
    "r_hitwall = -10 # Reward for hitting wall"
   ]
  },
  {
   "cell_type": "code",
   "execution_count": 18,
   "id": "344cf9d4",
   "metadata": {
    "scrolled": true
   },
   "outputs": [
    {
     "name": "stdout",
     "output_type": "stream",
     "text": [
      "Generating 1 maze(s) at 2023/01/16-10:45:58\n",
      "\tGenerating State Transition Matrix for 23011610X10\n",
      "\tGenerating Reward Matrix for 23011610X10\n",
      "\tUpdating d:\\PME_ITB\\softwares\\Maze Generator\\results directory\n",
      "\tCreating d:\\PME_ITB\\softwares\\Maze Generator\\results\\230116_10X10_0 directory\n",
      "\t\tCreated 23011610X10_s0.svg in d:\\PME_ITB\\softwares\\Maze Generator\\results\\230116_10X10_0\n",
      "\t\tCreated 23011610X10_c0.svg in d:\\PME_ITB\\softwares\\Maze Generator\\results\\230116_10X10_0\n",
      "\t\tCreated 23011610X10c0.txt in d:\\PME_ITB\\softwares\\Maze Generator\\results\\230116_10X10_0\n",
      "Finished.\n"
     ]
    }
   ],
   "source": [
    "### Calculate total number of state\n",
    "n_state = nx*ny\n",
    "\n",
    "### Get current date\n",
    "now = datetime.now()\n",
    "timestamp = now.strftime('%y%m%d')\n",
    "\n",
    "### Print initial status                    \n",
    "print(f\"Generating {n_maze} maze(s) at {now.strftime('%Y/%m/%d-%H:%M:%S')}\")\n",
    "\n",
    "### Generate maze\n",
    "maze = [0]*n_maze\n",
    "for i in range(n_maze):\n",
    "    ix, iy = random.randint(0, nx-1), random.randint(0, ny-1) # Maze entry position\n",
    "    # print(ix, iy)\n",
    "    maze[i] = map_gen.Maze(nx, ny, ix, iy)\n",
    "    maze[i].make_maze()\n",
    "\n",
    "### Generate State Transition Matrix\n",
    "ns_list = [0]*n_maze\n",
    "for i in range(n_maze):\n",
    "    print(f'\\tGenerating State Transition Matrix for {timestamp}{nx:02}X{ny:02}')\n",
    "    ns_list[i] = maze[i].gen_next_state(n_act)\n",
    "\n",
    "### Generate Reward Matrix\n",
    "rt_list = [0]*n_maze\n",
    "for i in range(n_maze):\n",
    "    print(f'\\tGenerating Reward Matrix for {timestamp}{nx:02}X{ny:02}')\n",
    "    rt_list[i] = maze[i].gen_rewards(n_act, r_default, r_hitwall)\n",
    "\n",
    "### Set Results Directory\n",
    "current_dir = os.getcwd()\n",
    "result_folder = 'results'\n",
    "result_dir = os.path.join(current_dir, result_folder)\n",
    "if os.path.isdir(result_dir)==False:\n",
    "    os.mkdir(result_dir)\n",
    "    print(f'\\tCreating {result_dir} directory')\n",
    "else:\n",
    "    print(f'\\tUpdating {result_dir} directory')\n",
    "\n",
    "### Generate SVG and config file for each mazes to desired directory\n",
    "for i in range(n_maze):\n",
    "    idx = i\n",
    "    target_folder = f'{timestamp}_{nx:02}X{ny:02}_{idx}'\n",
    "    target_dir = os.path.join(result_dir, target_folder)\n",
    "    while os.path.isdir(target_dir):\n",
    "        idx += 1\n",
    "        target_folder = f'{timestamp}_{nx:02}X{ny:02}_{idx}'\n",
    "        target_dir = os.path.join(result_dir, target_folder)\n",
    "\n",
    "    if os.path.isdir(target_dir)==False:\n",
    "        os.mkdir(target_dir)\n",
    "        print(f'\\tCreating {target_dir} directory')\n",
    "    else:\n",
    "        print(f'\\tUpdating {target_dir} directory')\n",
    "\n",
    "    ### Generate Maze SVG with state number\n",
    "    filename = f'{timestamp}{nx:02}X{ny:02}_s{idx}.svg'\n",
    "    f = os.path.join(target_dir, filename)\n",
    "    maze[i].write_svg(f, \"number\")\n",
    "    print(f'\\t\\tCreated {filename} in {target_dir}')\n",
    "\n",
    "    ### Generate Maze SVG with (x,y) coordinate\n",
    "    filename = f'{timestamp}{nx:02}X{ny:02}_c{idx}.svg'\n",
    "    f = os.path.join(target_dir, filename)\n",
    "    maze[i].write_svg(f, \"else\")\n",
    "    print(f'\\t\\tCreated {filename} in {target_dir}')\n",
    "\n",
    "    ### Generate maze config files\n",
    "    filename = f'{timestamp}{nx:02}X{ny:02}c{idx}.txt'\n",
    "    fname = os.path.join(target_dir, filename)\n",
    "    with open(fname, 'w') as f:\n",
    "        rt = rt_list[i]\n",
    "        ns = ns_list[i]\n",
    "        ### Write Number of state and action\n",
    "        print(f'{nx}', file = f)\n",
    "        print(f'{ny}', file = f)\n",
    "        print(f'{n_act}', file = f)\n",
    "        ### Write state transition matrix\n",
    "        for state in range(n_state):\n",
    "            for act in range (n_act):\n",
    "                print(f'{ns[state][act]};', end ='', file = f)\n",
    "            print('', file = f)\n",
    "        ### Write reward matrix\n",
    "        for state in range(n_state):\n",
    "            for act in range (n_act):\n",
    "                print(f'{rt[state][act]};', end ='', file = f)  \n",
    "            print('', file = f)\n",
    "    f.close()\n",
    "    print(f'\\t\\tCreated {filename} in {target_dir}')\n",
    "print(\"Finished.\")"
   ]
  },
  {
   "cell_type": "code",
   "execution_count": null,
   "id": "ad7e8f57",
   "metadata": {},
   "outputs": [],
   "source": []
  }
 ],
 "metadata": {
  "kernelspec": {
   "display_name": "Python 3.10.0 64-bit",
   "language": "python",
   "name": "python3"
  },
  "language_info": {
   "codemirror_mode": {
    "name": "ipython",
    "version": 3
   },
   "file_extension": ".py",
   "mimetype": "text/x-python",
   "name": "python",
   "nbconvert_exporter": "python",
   "pygments_lexer": "ipython3",
   "version": "3.10.0"
  },
  "vscode": {
   "interpreter": {
    "hash": "cfbecc6b7b02738b8f46f7104a81cce25d19a20dda612d7992deb4b3b8dee98d"
   }
  }
 },
 "nbformat": 4,
 "nbformat_minor": 5
}
