{
 "cells": [
  {
   "cell_type": "markdown",
   "id": "a845ce2a",
   "metadata": {},
   "source": [
    "# Grid-maze Generator Script"
   ]
  },
  {
   "cell_type": "markdown",
   "id": "5f94d9c9",
   "metadata": {},
   "source": [
    "This script can be used to generate multiple square grid-maze world. The grid-mazes are generated in the form of configuration files stored in `results` folder.\n",
    "\n",
    "### Configurable Parameters\n",
    "- Number of grid-maze to be generated\n",
    "- Dimension of the grid-maze\n",
    "- Reward values\n",
    "\n",
    "### Example of the generated grid maze\n",
    "<!-- ![Square Grid-maze](./lib/dat/example.svg) -->\n",
    "<img src=\"./lib/dat/example.svg\" alt=\"Square Grid-maze\" width=\"300\" align=\"left\"/>"
   ]
  },
  {
   "cell_type": "markdown",
   "id": "fb9d0154",
   "metadata": {},
   "source": [
    "# 1. Import Dependencies"
   ]
  },
  {
   "cell_type": "code",
   "execution_count": 1,
   "id": "4b39085b",
   "metadata": {},
   "outputs": [],
   "source": [
    "## IMPORT LIBRARIES\n",
    "from lib.support import gridMazeGen"
   ]
  },
  {
   "cell_type": "markdown",
   "id": "05323a7f",
   "metadata": {},
   "source": [
    "# 2. Set Configurable Parameters"
   ]
  },
  {
   "cell_type": "markdown",
   "id": "93491e53",
   "metadata": {},
   "source": [
    "- `n_maze` determines the number of the grid-maze to be generated.\n",
    "- `dim` determines the size of the grid-maze to be generated. The generated grid-maze will have `dim`×`dim` size.\n",
    "- `r_default` determines the default reward value given by the environment.\n",
    "- `r_hitwall` determines the reward value given by the environment if the agent hit a wall."
   ]
  },
  {
   "cell_type": "code",
   "execution_count": 2,
   "id": "21d3788b",
   "metadata": {},
   "outputs": [],
   "source": [
    "## USER DEFINED PARAMETERS\n",
    "\n",
    "# Number of square grid-maze to be generated\n",
    "n_maze = 1\n",
    "\n",
    "# Maze dimension\n",
    "dim = 5\n",
    "\n",
    "# Reward values\n",
    "r_default = -1 # Default Reward \n",
    "r_hitwall = -10 # Reward for hitting wall"
   ]
  },
  {
   "cell_type": "markdown",
   "id": "3e05f29b",
   "metadata": {},
   "source": [
    "# 3. Generate Grid-maze Configuration Files"
   ]
  },
  {
   "cell_type": "markdown",
   "id": "5e8b613c",
   "metadata": {},
   "source": [
    "## a. Generate Grid-mazes"
   ]
  },
  {
   "cell_type": "code",
   "execution_count": 3,
   "id": "45834cd1",
   "metadata": {},
   "outputs": [
    {
     "name": "stdout",
     "output_type": "stream",
     "text": [
      "Generating 1 maze(s) at 2023/02/27-15:44:13\n",
      "/home/amri/Documents/Repositories/Grid-Maze-Generator-Script/results exist. Updating directory.\n"
     ]
    }
   ],
   "source": [
    "mazes = gridMazeGen(n_maze, \n",
    "                    dim, \n",
    "                    'results',\n",
    "                    r_default=r_default, \n",
    "                    r_hitwall=r_hitwall\n",
    "                   )"
   ]
  },
  {
   "cell_type": "markdown",
   "id": "523c0d38",
   "metadata": {},
   "source": [
    "## b. Generate State Transition Matrices"
   ]
  },
  {
   "cell_type": "code",
   "execution_count": 4,
   "id": "25f7c9ff",
   "metadata": {},
   "outputs": [
    {
     "name": "stdout",
     "output_type": "stream",
     "text": [
      "Generating State Transition Matrix for 230227_05X05_0\n"
     ]
    }
   ],
   "source": [
    "### Generate State Transition Matrix\n",
    "mazes.generate_ns()"
   ]
  },
  {
   "cell_type": "markdown",
   "id": "2f1af18a",
   "metadata": {},
   "source": [
    "## c. Generate Reward Matrices"
   ]
  },
  {
   "cell_type": "code",
   "execution_count": 5,
   "id": "ecae2198",
   "metadata": {},
   "outputs": [
    {
     "name": "stdout",
     "output_type": "stream",
     "text": [
      "Generating Reward Matrix for 230227_05X05_0\n"
     ]
    }
   ],
   "source": [
    "### Generate Reward Matrix\n",
    "mazes.generate_rt()"
   ]
  },
  {
   "cell_type": "markdown",
   "id": "528644d9",
   "metadata": {},
   "source": [
    "## d. Store Generated Results"
   ]
  },
  {
   "cell_type": "code",
   "execution_count": 6,
   "id": "3c57e296",
   "metadata": {},
   "outputs": [
    {
     "name": "stdout",
     "output_type": "stream",
     "text": [
      "/home/amri/Documents/Repositories/Grid-Maze-Generator-Script/results/230227_05X05_0 doesn't exist. Creating  directory.\n",
      "In /home/amri/Documents/Repositories/Grid-Maze-Generator-Script/results/230227_05X05_0:\n",
      "\tCreated 23022705X05_s0.svg\n",
      "\tCreated 23022705X05_c0.svg\n",
      "\tCreated 23022705X05c0.txt\n"
     ]
    }
   ],
   "source": [
    "### Generate SVG and config file for each mazes to desired directory\n",
    "mazes.save_results()"
   ]
  },
  {
   "cell_type": "code",
   "execution_count": null,
   "id": "c4d23384",
   "metadata": {},
   "outputs": [],
   "source": []
  }
 ],
 "metadata": {
  "kernelspec": {
   "display_name": "tf",
   "language": "python",
   "name": "tf"
  },
  "language_info": {
   "codemirror_mode": {
    "name": "ipython",
    "version": 3
   },
   "file_extension": ".py",
   "mimetype": "text/x-python",
   "name": "python",
   "nbconvert_exporter": "python",
   "pygments_lexer": "ipython3",
   "version": "3.9.16"
  },
  "vscode": {
   "interpreter": {
    "hash": "cfbecc6b7b02738b8f46f7104a81cce25d19a20dda612d7992deb4b3b8dee98d"
   }
  }
 },
 "nbformat": 4,
 "nbformat_minor": 5
}
