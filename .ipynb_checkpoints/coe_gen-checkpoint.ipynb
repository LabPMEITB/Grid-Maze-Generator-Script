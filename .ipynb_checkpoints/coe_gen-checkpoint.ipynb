{
 "cells": [
  {
   "cell_type": "markdown",
   "id": "04767a95",
   "metadata": {},
   "source": [
    "# 1. Import dependencies"
   ]
  },
  {
   "cell_type": "code",
   "execution_count": 1,
   "id": "4b39085b",
   "metadata": {},
   "outputs": [],
   "source": [
    "## IMPORT LIBRARIES\n",
    "from lib.coe_gen import COEgen"
   ]
  },
  {
   "cell_type": "markdown",
   "id": "65668e0f",
   "metadata": {},
   "source": [
    "# 2. Choose configuration file"
   ]
  },
  {
   "cell_type": "code",
   "execution_count": 2,
   "id": "0d6a347d",
   "metadata": {},
   "outputs": [
    {
     "name": "stdout",
     "output_type": "stream",
     "text": [
      "Folder named 'results' exist.\n",
      "20 maze confing file(s) detected.\n",
      "1) 220830_10X10_0\n",
      "2) 220830_10X10_1\n",
      "3) 220830_10X10_2\n",
      "4) 220830_10X10_3\n",
      "5) 220830_10X10_4\n",
      "6) 221013_05X05_0\n",
      "7) 221013_05X05_1\n",
      "8) 221013_05X05_2\n",
      "9) 221013_05X05_3\n",
      "10) 221013_05X05_4\n",
      "11) 221130_40X40_0\n",
      "12) 221130_40X40_1\n",
      "13) 230116_05X05_0\n",
      "14) 230116_06X06_0\n",
      "15) 230116_07X07_0\n",
      "16) 230116_08X08_0\n",
      "17) 230116_09X09_0\n",
      "18) 230116_10X10_0\n",
      "19) 230216_05X05_0\n",
      "20) 230216_05X05_1\n",
      "\n",
      "Input Select Index (1-20) : 1\n",
      "\n",
      "Selected '220830_10X10_0'\n",
      "Folder named '220830_10X10_0' exist.\n",
      "4 maze confing file(s) detected.\n",
      "1) 22083010X10_c0.svg\n",
      "2) 22083010X10_s0.svg\n",
      "3) 22083010X10c0.txt\n",
      "4) coeS100G020Q3216\n",
      "Selected 22083010X10c0.txt\n"
     ]
    }
   ],
   "source": [
    "coe = COEgen('results')\n",
    "coe.choose_config()"
   ]
  },
  {
   "cell_type": "markdown",
   "id": "f0289ed6",
   "metadata": {},
   "source": [
    "# 3. Load selected configuration file"
   ]
  },
  {
   "cell_type": "code",
   "execution_count": 3,
   "id": "6adb6c2d",
   "metadata": {},
   "outputs": [
    {
     "name": "stdout",
     "output_type": "stream",
     "text": [
      "Loading 22083010X10c0.txt...\n",
      "\tFile consists of 203 lines of data.\n",
      "\tMaze size loaded. 10X10 (100 states)\n",
      "\tNumber of action loaded. There are 4 actions\n",
      "\tNext State list loaded.\n",
      "\tCurrent Reward list loaded.\n",
      "Finish loading 22083010X10c0.txt\n"
     ]
    }
   ],
   "source": [
    "coe.load_mazeConfig()"
   ]
  },
  {
   "cell_type": "markdown",
   "id": "863c813e",
   "metadata": {},
   "source": [
    "# 4. Display NS and RT"
   ]
  },
  {
   "cell_type": "markdown",
   "id": "819d0bc2",
   "metadata": {},
   "source": [
    "### a. Display NS memory"
   ]
  },
  {
   "cell_type": "code",
   "execution_count": 4,
   "id": "2c7e2687",
   "metadata": {
    "scrolled": true
   },
   "outputs": [
    {
     "name": "stdout",
     "output_type": "stream",
     "text": [
      "NEXT STATE MEMORY\n",
      "S000:  010 | 001 | 000 | 000 |\n",
      "S001:  001 | 002 | 000 | 001 |\n",
      "S002:  012 | 002 | 001 | 002 |\n",
      "S003:  013 | 004 | 003 | 003 |\n",
      "S004:  004 | 005 | 003 | 004 |\n",
      "S005:  015 | 006 | 004 | 005 |\n",
      "S006:  006 | 007 | 005 | 006 |\n",
      "S007:  017 | 007 | 006 | 007 |\n",
      "S008:  018 | 009 | 008 | 008 |\n",
      "S009:  009 | 009 | 008 | 009 |\n",
      "S010:  010 | 011 | 010 | 000 |\n",
      "S011:  021 | 011 | 010 | 011 |\n",
      "S012:  022 | 012 | 012 | 002 |\n",
      "S013:  023 | 013 | 013 | 003 |\n",
      "S014:  024 | 014 | 014 | 014 |\n",
      "S015:  015 | 016 | 015 | 005 |\n",
      "S016:  026 | 016 | 015 | 016 |\n",
      "S017:  017 | 017 | 017 | 007 |\n",
      "S018:  028 | 018 | 018 | 008 |\n",
      "S019:  029 | 019 | 019 | 019 |\n",
      "S020:  030 | 021 | 020 | 020 |\n",
      "S021:  021 | 021 | 020 | 011 |\n",
      "S022:  032 | 022 | 022 | 012 |\n",
      "S023:  033 | 023 | 023 | 013 |\n",
      "S024:  034 | 025 | 024 | 014 |\n",
      "S025:  035 | 025 | 024 | 025 |\n",
      "S026:  026 | 027 | 026 | 016 |\n",
      "S027:  027 | 028 | 026 | 027 |\n",
      "S028:  028 | 028 | 027 | 018 |\n",
      "S029:  039 | 029 | 029 | 019 |\n",
      "S030:  040 | 030 | 030 | 020 |\n",
      "S031:  041 | 032 | 031 | 031 |\n",
      "S032:  032 | 032 | 031 | 022 |\n",
      "S033:  033 | 034 | 033 | 023 |\n",
      "S034:  034 | 034 | 033 | 024 |\n",
      "S035:  035 | 036 | 035 | 025 |\n",
      "S036:  036 | 037 | 035 | 036 |\n",
      "S037:  037 | 038 | 036 | 037 |\n",
      "S038:  048 | 038 | 037 | 038 |\n",
      "S039:  049 | 039 | 039 | 029 |\n",
      "S040:  050 | 040 | 040 | 030 |\n",
      "S041:  041 | 041 | 041 | 031 |\n",
      "S042:  052 | 043 | 042 | 042 |\n",
      "S043:  043 | 044 | 042 | 043 |\n",
      "S044:  044 | 045 | 043 | 044 |\n",
      "S045:  055 | 046 | 044 | 045 |\n",
      "S046:  046 | 047 | 045 | 046 |\n",
      "S047:  047 | 047 | 046 | 047 |\n",
      "S048:  058 | 048 | 048 | 038 |\n",
      "S049:  059 | 049 | 049 | 039 |\n",
      "S050:  060 | 050 | 050 | 040 |\n",
      "S051:  061 | 052 | 051 | 051 |\n",
      "S052:  052 | 052 | 051 | 042 |\n",
      "S053:  063 | 054 | 053 | 053 |\n",
      "S054:  054 | 055 | 053 | 054 |\n",
      "S055:  055 | 055 | 054 | 045 |\n",
      "S056:  066 | 057 | 056 | 056 |\n",
      "S057:  057 | 058 | 056 | 057 |\n",
      "S058:  058 | 058 | 057 | 048 |\n",
      "S059:  069 | 059 | 059 | 049 |\n",
      "S060:  070 | 060 | 060 | 050 |\n",
      "S061:  071 | 061 | 061 | 051 |\n",
      "S062:  072 | 062 | 062 | 062 |\n",
      "S063:  063 | 064 | 063 | 053 |\n",
      "S064:  064 | 065 | 063 | 064 |\n",
      "S065:  075 | 065 | 064 | 065 |\n",
      "S066:  066 | 067 | 066 | 056 |\n",
      "S067:  067 | 068 | 066 | 067 |\n",
      "S068:  078 | 068 | 067 | 068 |\n",
      "S069:  079 | 069 | 069 | 059 |\n",
      "S070:  080 | 070 | 070 | 060 |\n",
      "S071:  081 | 071 | 071 | 061 |\n",
      "S072:  082 | 073 | 072 | 062 |\n",
      "S073:  083 | 073 | 072 | 073 |\n",
      "S074:  084 | 075 | 074 | 074 |\n",
      "S075:  085 | 075 | 074 | 065 |\n",
      "S076:  086 | 077 | 076 | 076 |\n",
      "S077:  077 | 078 | 076 | 077 |\n",
      "S078:  078 | 078 | 077 | 068 |\n",
      "S079:  089 | 079 | 079 | 069 |\n",
      "S080:  090 | 080 | 080 | 070 |\n",
      "S081:  091 | 081 | 081 | 071 |\n",
      "S082:  082 | 082 | 082 | 072 |\n",
      "S083:  093 | 083 | 083 | 073 |\n",
      "S084:  094 | 084 | 084 | 074 |\n",
      "S085:  085 | 085 | 085 | 075 |\n",
      "S086:  086 | 087 | 086 | 076 |\n",
      "S087:  087 | 088 | 086 | 087 |\n",
      "S088:  098 | 088 | 087 | 088 |\n",
      "S089:  099 | 089 | 089 | 079 |\n",
      "S090:  090 | 091 | 090 | 080 |\n",
      "S091:  091 | 092 | 090 | 081 |\n",
      "S092:  092 | 093 | 091 | 092 |\n",
      "S093:  093 | 093 | 092 | 083 |\n",
      "S094:  094 | 095 | 094 | 084 |\n",
      "S095:  095 | 096 | 094 | 095 |\n",
      "S096:  096 | 097 | 095 | 096 |\n",
      "S097:  097 | 098 | 096 | 097 |\n",
      "S098:  098 | 099 | 097 | 088 |\n",
      "S099:  099 | 099 | 098 | 089 |\n"
     ]
    }
   ],
   "source": [
    "coe.print_NS()"
   ]
  },
  {
   "cell_type": "markdown",
   "id": "e9b717f6",
   "metadata": {},
   "source": [
    "### b. Display RT memory"
   ]
  },
  {
   "cell_type": "code",
   "execution_count": 5,
   "id": "ed2311e5",
   "metadata": {
    "scrolled": true
   },
   "outputs": [
    {
     "name": "stdout",
     "output_type": "stream",
     "text": [
      "REWARD MEMORY\n",
      "S000:   -1.0 |  -1.0 | -10.0 | -10.0 |\n",
      "S001:  -10.0 |  -1.0 |  -1.0 | -10.0 |\n",
      "S002:   -1.0 | -10.0 |  -1.0 | -10.0 |\n",
      "S003:   -1.0 |  -1.0 | -10.0 | -10.0 |\n",
      "S004:  -10.0 |  -1.0 |  -1.0 | -10.0 |\n",
      "S005:   -1.0 |  -1.0 |  -1.0 | -10.0 |\n",
      "S006:  -10.0 |  -1.0 |  -1.0 | -10.0 |\n",
      "S007:   -1.0 | -10.0 |  -1.0 | -10.0 |\n",
      "S008:   -1.0 |  -1.0 | -10.0 | -10.0 |\n",
      "S009:  -10.0 | -10.0 |  -1.0 | -10.0 |\n",
      "S010:  -10.0 |  -1.0 | -10.0 |  -1.0 |\n",
      "S011:   -1.0 | -10.0 |  -1.0 | -10.0 |\n",
      "S012:   -1.0 | -10.0 | -10.0 |  -1.0 |\n",
      "S013:   -1.0 | -10.0 | -10.0 |  -1.0 |\n",
      "S014:   -1.0 | -10.0 | -10.0 | -10.0 |\n",
      "S015:  -10.0 |  -1.0 | -10.0 |  -1.0 |\n",
      "S016:   -1.0 | -10.0 |  -1.0 | -10.0 |\n",
      "S017:  -10.0 | -10.0 | -10.0 |  -1.0 |\n",
      "S018:   -1.0 | -10.0 | -10.0 |  -1.0 |\n",
      "S019:   -1.0 | -10.0 | -10.0 | -10.0 |\n",
      "S020:   -1.0 |  -1.0 | -10.0 | -10.0 |\n",
      "S021:  -10.0 | -10.0 |  -1.0 |  -1.0 |\n",
      "S022:   -1.0 | -10.0 | -10.0 |  -1.0 |\n",
      "S023:   -1.0 | -10.0 | -10.0 |  -1.0 |\n",
      "S024:   -1.0 |  -1.0 | -10.0 |  -1.0 |\n",
      "S025:   -1.0 | -10.0 |  -1.0 | -10.0 |\n",
      "S026:  -10.0 |  -1.0 | -10.0 |  -1.0 |\n",
      "S027:  -10.0 |  -1.0 |  -1.0 | -10.0 |\n",
      "S028:  -10.0 | -10.0 |  -1.0 |  -1.0 |\n",
      "S029:   -1.0 | -10.0 | -10.0 |  -1.0 |\n",
      "S030:   -1.0 | -10.0 | -10.0 |  -1.0 |\n",
      "S031:   -1.0 |  -1.0 | -10.0 | -10.0 |\n",
      "S032:  -10.0 | -10.0 |  -1.0 |  -1.0 |\n",
      "S033:  -10.0 |  -1.0 | -10.0 |  -1.0 |\n",
      "S034:  -10.0 | -10.0 |  -1.0 |  -1.0 |\n",
      "S035:  -10.0 |  -1.0 | -10.0 |  -1.0 |\n",
      "S036:  -10.0 |  -1.0 |  -1.0 | -10.0 |\n",
      "S037:  -10.0 |  -1.0 |  -1.0 | -10.0 |\n",
      "S038:   -1.0 | -10.0 |  -1.0 | -10.0 |\n",
      "S039:   -1.0 | -10.0 | -10.0 |  -1.0 |\n",
      "S040:   -1.0 | -10.0 | -10.0 |  -1.0 |\n",
      "S041:  -10.0 | -10.0 | -10.0 |  -1.0 |\n",
      "S042:   -1.0 |  -1.0 | -10.0 | -10.0 |\n",
      "S043:  -10.0 |  -1.0 |  -1.0 | -10.0 |\n",
      "S044:  -10.0 |  -1.0 |  -1.0 | -10.0 |\n",
      "S045:   -1.0 |  -1.0 |  -1.0 | -10.0 |\n",
      "S046:  -10.0 |  -1.0 |  -1.0 | -10.0 |\n",
      "S047:  -10.0 | -10.0 |  -1.0 | -10.0 |\n",
      "S048:   -1.0 | -10.0 | -10.0 |  -1.0 |\n",
      "S049:   -1.0 | -10.0 | -10.0 |  -1.0 |\n",
      "S050:   -1.0 | -10.0 | -10.0 |  -1.0 |\n",
      "S051:   -1.0 |  -1.0 | -10.0 | -10.0 |\n",
      "S052:  -10.0 | -10.0 |  -1.0 |  -1.0 |\n",
      "S053:   -1.0 |  -1.0 | -10.0 | -10.0 |\n",
      "S054:  -10.0 |  -1.0 |  -1.0 | -10.0 |\n",
      "S055:  -10.0 | -10.0 |  -1.0 |  -1.0 |\n",
      "S056:   -1.0 |  -1.0 | -10.0 | -10.0 |\n",
      "S057:  -10.0 |  -1.0 |  -1.0 | -10.0 |\n",
      "S058:  -10.0 | -10.0 |  -1.0 |  -1.0 |\n",
      "S059:   -1.0 | -10.0 | -10.0 |  -1.0 |\n",
      "S060:   -1.0 | -10.0 | -10.0 |  -1.0 |\n",
      "S061:   -1.0 | -10.0 | -10.0 |  -1.0 |\n",
      "S062:   -1.0 | -10.0 | -10.0 | -10.0 |\n",
      "S063:  -10.0 |  -1.0 | -10.0 |  -1.0 |\n",
      "S064:  -10.0 |  -1.0 |  -1.0 | -10.0 |\n",
      "S065:   -1.0 | -10.0 |  -1.0 | -10.0 |\n",
      "S066:  -10.0 |  -1.0 | -10.0 |  -1.0 |\n",
      "S067:  -10.0 |  -1.0 |  -1.0 | -10.0 |\n",
      "S068:   -1.0 | -10.0 |  -1.0 | -10.0 |\n",
      "S069:   -1.0 | -10.0 | -10.0 |  -1.0 |\n",
      "S070:   -1.0 | -10.0 | -10.0 |  -1.0 |\n",
      "S071:   -1.0 | -10.0 | -10.0 |  -1.0 |\n",
      "S072:   -1.0 |  -1.0 | -10.0 |  -1.0 |\n",
      "S073:   -1.0 | -10.0 |  -1.0 | -10.0 |\n",
      "S074:   -1.0 |  -1.0 | -10.0 | -10.0 |\n",
      "S075:   -1.0 | -10.0 |  -1.0 |  -1.0 |\n",
      "S076:   -1.0 |  -1.0 | -10.0 | -10.0 |\n",
      "S077:  -10.0 |  -1.0 |  -1.0 | -10.0 |\n",
      "S078:  -10.0 | -10.0 |  -1.0 |  -1.0 |\n",
      "S079:   -1.0 | -10.0 | -10.0 |  -1.0 |\n",
      "S080:   -1.0 | -10.0 | -10.0 |  -1.0 |\n",
      "S081:   -1.0 | -10.0 | -10.0 |  -1.0 |\n",
      "S082:  -10.0 | -10.0 | -10.0 |  -1.0 |\n",
      "S083:   -1.0 | -10.0 | -10.0 |  -1.0 |\n",
      "S084:   -1.0 | -10.0 | -10.0 |  -1.0 |\n",
      "S085:  -10.0 | -10.0 | -10.0 |  -1.0 |\n",
      "S086:  -10.0 |  -1.0 | -10.0 |  -1.0 |\n",
      "S087:  -10.0 |  -1.0 |  -1.0 | -10.0 |\n",
      "S088:   -1.0 | -10.0 |  -1.0 | -10.0 |\n",
      "S089:   -1.0 | -10.0 | -10.0 |  -1.0 |\n",
      "S090:  -10.0 |  -1.0 | -10.0 |  -1.0 |\n",
      "S091:  -10.0 |  -1.0 |  -1.0 |  -1.0 |\n",
      "S092:  -10.0 |  -1.0 |  -1.0 | -10.0 |\n",
      "S093:  -10.0 | -10.0 |  -1.0 |  -1.0 |\n",
      "S094:  -10.0 |  -1.0 | -10.0 |  -1.0 |\n",
      "S095:  -10.0 |  -1.0 |  -1.0 | -10.0 |\n",
      "S096:  -10.0 |  -1.0 |  -1.0 | -10.0 |\n",
      "S097:  -10.0 |  -1.0 |  -1.0 | -10.0 |\n",
      "S098:  -10.0 |  -1.0 |  -1.0 |  -1.0 |\n",
      "S099:  -10.0 | -10.0 |  -1.0 |  -1.0 |\n"
     ]
    }
   ],
   "source": [
    "coe.print_RT()"
   ]
  },
  {
   "cell_type": "markdown",
   "id": "f5aa9276",
   "metadata": {},
   "source": [
    "# 5. Choose Goal State"
   ]
  },
  {
   "cell_type": "code",
   "execution_count": 6,
   "id": "9a23b92f",
   "metadata": {
    "scrolled": false
   },
   "outputs": [
    {
     "data": {
      "text/html": [
       "<img width=\"100\" src=\"D:\\PME_ITB\\Repositories\\Grid-Maze-Generator-Script\\results\\220830_10X10_0\\22083010X10_s0.svg\" >"
      ],
      "text/plain": [
       "<IPython.core.display.HTML object>"
      ]
     },
     "metadata": {},
     "output_type": "display_data"
    }
   ],
   "source": [
    "coe.add_goal_state(\"100\")"
   ]
  },
  {
   "cell_type": "code",
   "execution_count": null,
   "id": "a74c2057",
   "metadata": {},
   "outputs": [],
   "source": [
    "# goal_state = int(input('Goal State: '))\n",
    "\n",
    "# print(\"Maze Goal is S{:03d}\".format(goal_state))\n",
    "\n",
    "# # Updates Current Reward list\n",
    "# if (goal_state > (total_state-1)):\n",
    "#     print(\"Goal State cannot be used. Try again\")\n",
    "# else:\n",
    "#     goal_reward = 10\n",
    "#     for i in range(total_state):\n",
    "#         for j in range(total_act):\n",
    "#             if (ns_list[i][j]==goal_state)&(i != goal_state):\n",
    "#                 rt_list[i][j] = goal_reward\n",
    "#     print('Current Reward list updated.')"
   ]
  },
  {
   "cell_type": "markdown",
   "id": "168b680e",
   "metadata": {},
   "source": [
    "# Generate .coe Files"
   ]
  },
  {
   "cell_type": "code",
   "execution_count": null,
   "id": "da8bfbbf",
   "metadata": {},
   "outputs": [],
   "source": [
    "# data_width = 16\n",
    "# fraction_bit = 10"
   ]
  },
  {
   "cell_type": "code",
   "execution_count": null,
   "id": "04f1814b",
   "metadata": {},
   "outputs": [],
   "source": [
    "# coe_folder = f'coeS{total_state:03d}G{goal_state:03d}Q{data_width:02d}{fraction_bit:02d}'\n",
    "# # coe_dir = gen_path(config_dir, coe_folder)\n",
    "# target_dir = os.path.join(config_dir, coe_folder)\n",
    "\n",
    "# # Create the directory if it does not exist\n",
    "# if os.path.isdir(target_dir):\n",
    "#     print(\"File '% s' already exist\" % target_dir)\n",
    "# else:\n",
    "#     os.mkdir(target_dir)\n",
    "#     print(\"File '% s' created\" % target_dir)\n",
    "# ## Generate 4 .coe files for NS_MEM\n",
    "#     for a in range(total_act):\n",
    "#         filename = f'S{total_state}_NS{a}_MEM.coe'\n",
    "#         path = os.path.join(target_dir, filename)\n",
    "#         with open(path, 'w') as f:\n",
    "#             print('memory_initialization_radix=10;', file = f)\n",
    "#             print('memory_initialization_vector=',  end ='', file = f)\n",
    "#             for s in range(total_state):\n",
    "#                 print(f' {ns_list[s][a]}',  end ='', file = f)\n",
    "#             print(';', file = f)\n",
    "#         f.close()\n",
    "\n",
    "# ## Generate a .coe file for RT_MEM\n",
    "#     filename = f'S{total_state}_RT_MEM.coe'\n",
    "#     path = os.path.join(target_dir, filename)\n",
    "#     with open(path, 'w') as f:\n",
    "#         print('memory_initialization_radix=10;', file = f)\n",
    "#         print('memory_initialization_vector=',  end ='', file = f)\n",
    "#         for s in range(total_state):\n",
    "#             for a in range(total_act):\n",
    "#                 val0 = rt_list[s][a]*(2**fraction_bit)\n",
    "#                 val1 = (int(val0) + (1 << data_width)) % (1 << data_width)\n",
    "#                 print(f' {val1}',  end ='', file = f)\n",
    "#         print(';', file = f)\n",
    "#     f.close()"
   ]
  },
  {
   "cell_type": "code",
   "execution_count": null,
   "id": "b631946a",
   "metadata": {},
   "outputs": [],
   "source": [
    "# target_folder = f'{maze_config}_G{goal_state:03d}_{data_width}_{fraction_bit}'\n",
    "# target_dir = os.path.join(results_dir, target_folder)\n",
    "\n",
    "# # Create the directory if it does not exist\n",
    "# if os.path.isdir(target_dir):\n",
    "#     print(\"File '% s' already exist\" % target_dir)\n",
    "# else:\n",
    "#     os.mkdir(target_dir)\n",
    "#     print(\"File '% s' created\" % target_dir)\n",
    "\n",
    "# ## Generate a .coe files for NS_MEM\n",
    "#     filename = f'S{total_state}_NS.coe'\n",
    "#     path = os.path.join(target_dir, filename)\n",
    "#     with open(path, 'w') as f:\n",
    "#         print('memory_initialization_radix=10;', file = f)\n",
    "#         print('memory_initialization_vector=',  end ='', file = f)\n",
    "#         for s in range(total_state):\n",
    "#             for a in range(total_act):\n",
    "#                 print(f' {NS_list[s][a]}',  end ='', file = f)\n",
    "#         print(';', file = f)\n",
    "#     f.close()\n",
    "\n",
    "# ## Generate a .coe file for RT_MEM\n",
    "#     filename = f'S{total_state}_RT_MEM.coe'\n",
    "#     path = os.path.join(target_dir, filename)\n",
    "#     with open(path, 'w') as f:\n",
    "#         print('memory_initialization_radix=10;', file = f)\n",
    "#         print('memory_initialization_vector=',  end ='', file = f)\n",
    "#         for s in range(total_state):\n",
    "#             for a in range(total_act):\n",
    "#                 val0 = RT_list[s][a]*(2**fraction_bit)\n",
    "#                 val1 = (int(val0) + (1 << data_width)) % (1 << data_width)\n",
    "#                 print(f' {val1}',  end ='', file = f)\n",
    "#         print(';', file = f)\n",
    "#     f.close()"
   ]
  },
  {
   "cell_type": "code",
   "execution_count": null,
   "id": "458c72a8",
   "metadata": {},
   "outputs": [],
   "source": []
  }
 ],
 "metadata": {
  "kernelspec": {
   "display_name": "Python 3 (ipykernel)",
   "language": "python",
   "name": "python3"
  },
  "language_info": {
   "codemirror_mode": {
    "name": "ipython",
    "version": 3
   },
   "file_extension": ".py",
   "mimetype": "text/x-python",
   "name": "python",
   "nbconvert_exporter": "python",
   "pygments_lexer": "ipython3",
   "version": "3.10.0"
  },
  "vscode": {
   "interpreter": {
    "hash": "cfbecc6b7b02738b8f46f7104a81cce25d19a20dda612d7992deb4b3b8dee98d"
   }
  }
 },
 "nbformat": 4,
 "nbformat_minor": 5
}
