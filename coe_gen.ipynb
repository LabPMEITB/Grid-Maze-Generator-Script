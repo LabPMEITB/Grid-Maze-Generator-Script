{
 "cells": [
  {
   "cell_type": "code",
   "execution_count": 1,
   "id": "4b39085b",
   "metadata": {},
   "outputs": [],
   "source": [
    "# from map_gen import Maze\n",
    "from datetime import datetime\n",
    "from rig.type_casts import float_to_fp, fp_to_float, NumpyFloatToFixConverter, NumpyFixToFloatConverter\n",
    "import os"
   ]
  },
  {
   "cell_type": "code",
   "execution_count": 2,
   "id": "9961f7ae",
   "metadata": {},
   "outputs": [
    {
     "name": "stdout",
     "output_type": "stream",
     "text": [
      "d:\\PME_ITB\\Backup\\Tools\\Reinforcement Learning\\Maze Generator\n"
     ]
    }
   ],
   "source": [
    "c_dir = os.getcwd()\n",
    "print(c_dir)"
   ]
  },
  {
   "cell_type": "code",
   "execution_count": 3,
   "id": "8bd94f7c",
   "metadata": {},
   "outputs": [],
   "source": [
    "def gen_path(c_dir, subdir_name):\n",
    "    \n",
    "    # Create path to sub directory\n",
    "    subdir_path = os.path.join(c_dir, subdir_name)\n",
    "    \n",
    "    # Check if subdirectory exist. If doesn't exist generate new one.\n",
    "    if os.path.isdir(subdir_path)==False:\n",
    "        print(\"Folder '%s' does not exist. \" % subdir_name, end = \"\")\n",
    "        os.mkdir(subdir_path)\n",
    "        print(\"Created a new folder named '%s'.\"% subdir_name)\n",
    "    else:\n",
    "        print(\"Folder named '%s' exist.\" % subdir_name)\n",
    "        \n",
    "    # Return geneated path    \n",
    "    return subdir_path\n",
    "\n",
    "def scan_file(dir):\n",
    "    # Get list of maze config available in the folder\n",
    "    list_files = os.listdir(dir)\n",
    "\n",
    "    # Sort file\n",
    "    list_files.sort()\n",
    "    \n",
    "    # # Filter to only bitstream files\n",
    "    # mazeConfig_list = []\n",
    "    # for file in maze_files:\n",
    "    #     extension = os.path.splitext(file)[1]\n",
    "    #     if (extension == \".txt\"):\n",
    "    #         mazeConfig_list.append(file)\n",
    "\n",
    "    # Print all files\n",
    "    print(\"%d maze confing file(s) detected.\"% len(list_files))\n",
    "    for file in list_files:\n",
    "        idx = list_files.index(file) + 1\n",
    "        print(\"%d) %s\"% (idx, file))\n",
    "    \n",
    "    return list_files\n",
    "\n",
    "def select_file(dir):\n",
    "    file_list = scan_file(dir)\n",
    "    # Get user input to select overlay from overlay file list\n",
    "    loop = True\n",
    "    while(loop):\n",
    "        idx = int(input('\\nInput Select Index (1-%d) : '%(len(file_list))))-1\n",
    "        if ((0 <= idx) and (idx < len(file_list))):\n",
    "            loop = False\n",
    "            selected_file = file_list[idx]\n",
    "            print(\"\\nSelected '%s'\"% selected_file)\n",
    "        else:\n",
    "            print('Input out of range. Please try again.')\n",
    "    return selected_file\n",
    "\n",
    "def choose_config(c_dir, results_folder):\n",
    "    results_dir = gen_path(c_dir, results_folder)\n",
    "    target_file = select_file(results_dir)\n",
    "    target_dir = gen_path(results_dir, target_file)\n",
    "    \n",
    "    list_of_file = scan_file(target_dir)\n",
    "\n",
    "    # Filter to only bitstream files\n",
    "    config_file_list = []\n",
    "    for file in list_of_file:\n",
    "        extension = os.path.splitext(file)[1]\n",
    "        if (extension == \".txt\"):\n",
    "            config_file_list.append(file)\n",
    "    \n",
    "    if (len(config_file_list)!=1):\n",
    "        print(f'Mutliple .txt files detected. Selected {config_file_list[0]}')\n",
    "    else:\n",
    "        print(f'Selected {config_file_list[0]}')\n",
    "    config_file = config_file_list[0]\n",
    "\n",
    "    return target_dir, config_file\n",
    "\n",
    "def load_mazeConfig(maze_dir, config_file):\n",
    "    # Read Maze config file\n",
    "    config_target = os.path.join(maze_dir, config_file)\n",
    "    with open(config_target, 'r') as f:\n",
    "        print(f'Loading {config_file}...')\n",
    "        lines = f.readlines()\n",
    "        total_line = len(lines)\n",
    "        print(f'\\tFile consists of {total_line} lines of data.')\n",
    "        f.close()\n",
    "        \n",
    "    # Load Maze Size\n",
    "    maze_x = int(lines[0])\n",
    "    maze_y = int(lines[1])\n",
    "    total_state = maze_x * maze_y\n",
    "    print(f'\\tMaze size loaded. {maze_x}X{maze_y} ({total_state} states)')\n",
    "\n",
    "    # Load total action\n",
    "    total_act = int(lines[2])\n",
    "    print(f'\\tNumber of action loaded. There are {total_act} actions')\n",
    "\n",
    "    # Load Next State list\n",
    "    NS_list = [[0] * total_act for i in range(total_state)]\n",
    "    for i in range(total_state):\n",
    "        x = lines[3+i].split(';')\n",
    "        x.remove('\\n')\n",
    "        for j in range(total_act):\n",
    "            NS_list[i][j] = int(x[j])\n",
    "    print('\\tNext State list loaded.')\n",
    "\n",
    "    # Load Current Reward List\n",
    "    RT_list = [[0.0] * total_act for i in range(total_state)]\n",
    "    for i in range(total_state):\n",
    "        x = lines[3+total_state+i].split(';')\n",
    "        x.remove('\\n')\n",
    "        for j in range(total_act):\n",
    "            RT_list[i][j] = float(x[j])\n",
    "    print('\\tCurrent Reward list loaded.')\n",
    "    print(f'Finish loading {config_file}')\n",
    "    \n",
    "    return total_state, total_act, NS_list, RT_list\n"
   ]
  },
  {
   "cell_type": "code",
   "execution_count": 4,
   "id": "47ae0578",
   "metadata": {},
   "outputs": [
    {
     "name": "stdout",
     "output_type": "stream",
     "text": [
      "Folder named 'results' exist.\n",
      "10 maze confing file(s) detected.\n",
      "1) 220830_10X10_0\n",
      "2) 220830_10X10_1\n",
      "3) 220830_10X10_2\n",
      "4) 220830_10X10_3\n",
      "5) 220830_10X10_4\n",
      "6) 221013_05X05_0\n",
      "7) 221013_05X05_1\n",
      "8) 221013_05X05_2\n",
      "9) 221013_05X05_3\n",
      "10) 221013_05X05_4\n",
      "\n",
      "Selected '221013_05X05_3'\n",
      "Folder named '221013_05X05_3' exist.\n",
      "3 maze confing file(s) detected.\n",
      "1) 22101305X05_c3.svg\n",
      "2) 22101305X05_s3.svg\n",
      "3) 22101305X05c3.txt\n",
      "Selected 22101305X05c3.txt\n",
      "Loading 22101305X05c3.txt...\n",
      "\tFile consists of 53 lines of data.\n",
      "\tMaze size loaded. 5X5 (25 states)\n",
      "\tNumber of action loaded. There are 4 actions\n",
      "\tNext State list loaded.\n",
      "\tCurrent Reward list loaded.\n",
      "Finish loading 22101305X05c3.txt\n"
     ]
    }
   ],
   "source": [
    "config_dir, config_file = choose_config(c_dir, 'results')\n",
    "config_data = load_mazeConfig(config_dir, config_file)\n",
    "\n",
    "# Pass content of maze_config\n",
    "total_state = config_data[0]\n",
    "total_act = config_data[1]\n",
    "ns_list = config_data[2]\n",
    "rt_list = config_data[3]"
   ]
  },
  {
   "cell_type": "markdown",
   "id": "fac40cda",
   "metadata": {},
   "source": [
    "# Display NS Memory and RT Memory"
   ]
  },
  {
   "cell_type": "code",
   "execution_count": 5,
   "id": "ba947684",
   "metadata": {},
   "outputs": [
    {
     "name": "stdout",
     "output_type": "stream",
     "text": [
      "NEXT STATE MEMORY\n",
      "S000:  005 | 001 | 000 | 000 |\n",
      "S001:  001 | 002 | 000 | 001 |\n",
      "S002:  007 | 003 | 001 | 002 |\n",
      "S003:  008 | 003 | 002 | 003 |\n",
      "S004:  009 | 004 | 004 | 004 |\n",
      "S005:  010 | 005 | 005 | 000 |\n",
      "S006:  011 | 006 | 006 | 006 |\n",
      "S007:  007 | 007 | 007 | 002 |\n",
      "S008:  013 | 008 | 008 | 003 |\n",
      "S009:  014 | 009 | 009 | 004 |\n",
      "S010:  015 | 010 | 010 | 005 |\n",
      "S011:  011 | 012 | 011 | 006 |\n",
      "S012:  012 | 013 | 011 | 012 |\n",
      "S013:  013 | 013 | 012 | 008 |\n",
      "S014:  019 | 014 | 014 | 009 |\n",
      "S015:  015 | 016 | 015 | 010 |\n",
      "S016:  021 | 016 | 015 | 016 |\n",
      "S017:  022 | 018 | 017 | 017 |\n",
      "S018:  018 | 019 | 017 | 018 |\n",
      "S019:  024 | 019 | 018 | 014 |\n",
      "S020:  020 | 021 | 020 | 020 |\n",
      "S021:  021 | 022 | 020 | 016 |\n",
      "S022:  022 | 022 | 021 | 017 |\n",
      "S023:  023 | 024 | 023 | 023 |\n",
      "S024:  024 | 024 | 023 | 019 |\n"
     ]
    }
   ],
   "source": [
    "print('NEXT STATE MEMORY')\n",
    "for i in range(total_state):\n",
    "    print(f'S{(i):03d}: ',end='')\n",
    "    for j in range(total_act):\n",
    "        print(f' {(ns_list[i][j]):03d} |',end='')\n",
    "    print()"
   ]
  },
  {
   "cell_type": "code",
   "execution_count": 6,
   "id": "8beeac07",
   "metadata": {},
   "outputs": [
    {
     "name": "stdout",
     "output_type": "stream",
     "text": [
      "REWARD MEMORY\n",
      "S000:   -1.0 |  -1.0 | -10.0 | -10.0 |\n",
      "S001:  -10.0 |  -1.0 |  -1.0 | -10.0 |\n",
      "S002:   -1.0 |  -1.0 |  -1.0 | -10.0 |\n",
      "S003:   -1.0 | -10.0 |  -1.0 | -10.0 |\n",
      "S004:   -1.0 | -10.0 | -10.0 | -10.0 |\n",
      "S005:   -1.0 | -10.0 | -10.0 |  -1.0 |\n",
      "S006:   -1.0 | -10.0 | -10.0 | -10.0 |\n",
      "S007:  -10.0 | -10.0 | -10.0 |  -1.0 |\n",
      "S008:   -1.0 | -10.0 | -10.0 |  -1.0 |\n",
      "S009:   -1.0 | -10.0 | -10.0 |  -1.0 |\n",
      "S010:   -1.0 | -10.0 | -10.0 |  -1.0 |\n",
      "S011:  -10.0 |  -1.0 | -10.0 |  -1.0 |\n",
      "S012:  -10.0 |  -1.0 |  -1.0 | -10.0 |\n",
      "S013:  -10.0 | -10.0 |  -1.0 |  -1.0 |\n",
      "S014:   -1.0 | -10.0 | -10.0 |  -1.0 |\n",
      "S015:  -10.0 |  -1.0 | -10.0 |  -1.0 |\n",
      "S016:   -1.0 | -10.0 |  -1.0 | -10.0 |\n",
      "S017:   -1.0 |  -1.0 | -10.0 | -10.0 |\n",
      "S018:  -10.0 |  -1.0 |  -1.0 | -10.0 |\n",
      "S019:   -1.0 | -10.0 |  -1.0 |  -1.0 |\n",
      "S020:  -10.0 |  -1.0 | -10.0 | -10.0 |\n",
      "S021:  -10.0 |  -1.0 |  -1.0 |  -1.0 |\n",
      "S022:  -10.0 | -10.0 |  -1.0 |  -1.0 |\n",
      "S023:  -10.0 |  -1.0 | -10.0 | -10.0 |\n",
      "S024:  -10.0 | -10.0 |  -1.0 |  -1.0 |\n"
     ]
    }
   ],
   "source": [
    "print('REWARD MEMORY')\n",
    "for i in range(total_state):\n",
    "    print(f'S{(i):03d}: ',end='')\n",
    "    for j in range(total_act):\n",
    "        val = rt_list[i][j]\n",
    "        if (val == -1):\n",
    "            print(f'  {(val):.1f} |',end='')\n",
    "        elif (val == -10):\n",
    "            print(f' {(val):.1f} |',end='')\n",
    "        else:\n",
    "            print(f'  {(val):.1f} |',end='')\n",
    "    print()"
   ]
  },
  {
   "cell_type": "markdown",
   "id": "fac40cda",
   "metadata": {},
   "source": [
    "# Choose Goal"
   ]
  },
  {
   "cell_type": "code",
   "execution_count": 7,
   "id": "a74c2057",
   "metadata": {},
   "outputs": [
    {
     "name": "stdout",
     "output_type": "stream",
     "text": [
      "Maze Goal is S006\n",
      "Current Reward list updated.\n"
     ]
    }
   ],
   "source": [
    "goal_state = int(input('Goal State: '))\n",
    "\n",
    "print(\"Maze Goal is S{:03d}\".format(goal_state))\n",
    "\n",
    "# Updates Current Reward list\n",
    "if (goal_state > (total_state-1)):\n",
    "    print(\"Goal State cannot be used. Try again\")\n",
    "else:\n",
    "    goal_reward = 10\n",
    "    for i in range(total_state):\n",
    "        for j in range(total_act):\n",
    "            if (ns_list[i][j]==goal_state)&(i != goal_state):\n",
    "                rt_list[i][j] = goal_reward\n",
    "    print('Current Reward list updated.')"
   ]
  },
  {
   "cell_type": "markdown",
   "id": "168b680e",
   "metadata": {},
   "source": [
    "# Generate .coe Files"
   ]
  },
  {
   "cell_type": "code",
   "execution_count": 8,
   "id": "da8bfbbf",
   "metadata": {},
   "outputs": [],
   "source": [
    "data_width = 16\n",
    "fraction_bit = 10"
   ]
  },
  {
   "cell_type": "code",
   "execution_count": 9,
   "id": "04f1814b",
   "metadata": {},
   "outputs": [
    {
     "name": "stdout",
     "output_type": "stream",
     "text": [
      "File 'd:\\PME_ITB\\Backup\\Tools\\Reinforcement Learning\\Maze Generator\\results\\221013_05X05_3\\coeS025G006Q1610' created\n"
     ]
    }
   ],
   "source": [
    "coe_folder = f'coeS{total_state:03d}G{goal_state:03d}Q{data_width:02d}{fraction_bit:02d}'\n",
    "# coe_dir = gen_path(config_dir, coe_folder)\n",
    "target_dir = os.path.join(config_dir, coe_folder)\n",
    "\n",
    "# Create the directory if it does not exist\n",
    "if os.path.isdir(target_dir):\n",
    "    print(\"File '% s' already exist\" % target_dir)\n",
    "else:\n",
    "    os.mkdir(target_dir)\n",
    "    print(\"File '% s' created\" % target_dir)\n",
    "## Generate 4 .coe files for NS_MEM\n",
    "    for a in range(total_act):\n",
    "        filename = f'S{total_state}_NS{a}_MEM.coe'\n",
    "        path = os.path.join(target_dir, filename)\n",
    "        with open(path, 'w') as f:\n",
    "            print('memory_initialization_radix=10;', file = f)\n",
    "            print('memory_initialization_vector=',  end ='', file = f)\n",
    "            for s in range(total_state):\n",
    "                print(f' {ns_list[s][a]}',  end ='', file = f)\n",
    "            print(';', file = f)\n",
    "        f.close()\n",
    "\n",
    "## Generate a .coe file for RT_MEM\n",
    "    filename = f'S{total_state}_RT_MEM.coe'\n",
    "    path = os.path.join(target_dir, filename)\n",
    "    with open(path, 'w') as f:\n",
    "        print('memory_initialization_radix=10;', file = f)\n",
    "        print('memory_initialization_vector=',  end ='', file = f)\n",
    "        for s in range(total_state):\n",
    "            for a in range(total_act):\n",
    "                val0 = rt_list[s][a]*(2**fraction_bit)\n",
    "                val1 = (int(val0) + (1 << data_width)) % (1 << data_width)\n",
    "                print(f' {val1}',  end ='', file = f)\n",
    "        print(';', file = f)\n",
    "    f.close()"
   ]
  },
  {
   "cell_type": "code",
   "execution_count": 10,
   "id": "04f1814b",
   "metadata": {},
   "outputs": [],
   "source": [
    "# target_folder = f'{maze_config}_G{goal_state:03d}_{data_width}_{fraction_bit}'\n",
    "# target_dir = os.path.join(results_dir, target_folder)\n",
    "\n",
    "# # Create the directory if it does not exist\n",
    "# if os.path.isdir(target_dir):\n",
    "#     print(\"File '% s' already exist\" % target_dir)\n",
    "# else:\n",
    "#     os.mkdir(target_dir)\n",
    "#     print(\"File '% s' created\" % target_dir)\n",
    "\n",
    "# ## Generate a .coe files for NS_MEM\n",
    "#     filename = f'S{total_state}_NS.coe'\n",
    "#     path = os.path.join(target_dir, filename)\n",
    "#     with open(path, 'w') as f:\n",
    "#         print('memory_initialization_radix=10;', file = f)\n",
    "#         print('memory_initialization_vector=',  end ='', file = f)\n",
    "#         for s in range(total_state):\n",
    "#             for a in range(total_act):\n",
    "#                 print(f' {NS_list[s][a]}',  end ='', file = f)\n",
    "#         print(';', file = f)\n",
    "#     f.close()\n",
    "\n",
    "# ## Generate a .coe file for RT_MEM\n",
    "#     filename = f'S{total_state}_RT_MEM.coe'\n",
    "#     path = os.path.join(target_dir, filename)\n",
    "#     with open(path, 'w') as f:\n",
    "#         print('memory_initialization_radix=10;', file = f)\n",
    "#         print('memory_initialization_vector=',  end ='', file = f)\n",
    "#         for s in range(total_state):\n",
    "#             for a in range(total_act):\n",
    "#                 val0 = RT_list[s][a]*(2**fraction_bit)\n",
    "#                 val1 = (int(val0) + (1 << data_width)) % (1 << data_width)\n",
    "#                 print(f' {val1}',  end ='', file = f)\n",
    "#         print(';', file = f)\n",
    "#     f.close()"
   ]
  },
  {
   "cell_type": "code",
   "execution_count": null,
   "id": "458c72a8",
   "metadata": {},
   "outputs": [],
   "source": []
  }
 ],
 "metadata": {
  "kernelspec": {
   "display_name": "Python 3.10.0 64-bit",
   "language": "python",
   "name": "python3"
  },
  "language_info": {
   "codemirror_mode": {
    "name": "ipython",
    "version": 3
   },
   "file_extension": ".py",
   "mimetype": "text/x-python",
   "name": "python",
   "nbconvert_exporter": "python",
   "pygments_lexer": "ipython3",
   "version": "3.10.0"
  },
  "vscode": {
   "interpreter": {
    "hash": "cfbecc6b7b02738b8f46f7104a81cce25d19a20dda612d7992deb4b3b8dee98d"
   }
  }
 },
 "nbformat": 4,
 "nbformat_minor": 5
}
