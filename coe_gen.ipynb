{
 "cells": [
  {
   "cell_type": "markdown",
   "id": "04767a95",
   "metadata": {},
   "source": [
    "# 1. Import dependencies"
   ]
  },
  {
   "cell_type": "code",
   "execution_count": 1,
   "id": "4b39085b",
   "metadata": {},
   "outputs": [],
   "source": [
    "## IMPORT LIBRARIES\n",
    "from lib.coe_gen import COEgen"
   ]
  },
  {
   "cell_type": "markdown",
   "id": "65668e0f",
   "metadata": {},
   "source": [
    "# 2. Choose configuration file"
   ]
  },
  {
   "cell_type": "code",
   "execution_count": 2,
   "id": "0d6a347d",
   "metadata": {},
   "outputs": [
    {
     "name": "stdout",
     "output_type": "stream",
     "text": [
      "Folder named 'results' exist.\n",
      "20 maze confing file(s) detected.\n",
      "1) 220830_10X10_0\n",
      "2) 220830_10X10_1\n",
      "3) 220830_10X10_2\n",
      "4) 220830_10X10_3\n",
      "5) 220830_10X10_4\n",
      "6) 221013_05X05_0\n",
      "7) 221013_05X05_1\n",
      "8) 221013_05X05_2\n",
      "9) 221013_05X05_3\n",
      "10) 221013_05X05_4\n",
      "11) 221130_40X40_0\n",
      "12) 221130_40X40_1\n",
      "13) 230116_05X05_0\n",
      "14) 230116_06X06_0\n",
      "15) 230116_07X07_0\n",
      "16) 230116_08X08_0\n",
      "17) 230116_09X09_0\n",
      "18) 230116_10X10_0\n",
      "19) 230216_05X05_0\n",
      "20) 230216_05X05_1\n",
      "\n",
      "Input Select Index (1-20) : 20\n",
      "\n",
      "Selected '230216_05X05_1'\n",
      "Folder named '230216_05X05_1' exist.\n",
      "3 maze confing file(s) detected.\n",
      "1) 23021605X05_c1.svg\n",
      "2) 23021605X05_s1.svg\n",
      "3) 23021605X05c1.txt\n",
      "Selected 23021605X05c1.txt\n"
     ]
    }
   ],
   "source": [
    "coe = COEgen('results')\n",
    "coe.choose_config()"
   ]
  },
  {
   "cell_type": "markdown",
   "id": "f0289ed6",
   "metadata": {},
   "source": [
    "# 3. Load selected configuration file"
   ]
  },
  {
   "cell_type": "code",
   "execution_count": 3,
   "id": "6adb6c2d",
   "metadata": {},
   "outputs": [
    {
     "name": "stdout",
     "output_type": "stream",
     "text": [
      "Loading 23021605X05c1.txt...\n",
      "\tFile consists of 53 lines of data.\n",
      "\tMaze size loaded. 5X5 (25 states)\n",
      "\tNumber of action loaded. There are 4 actions\n",
      "\tNext State list loaded.\n",
      "\tCurrent Reward list loaded.\n",
      "Finish loading 23021605X05c1.txt\n"
     ]
    }
   ],
   "source": [
    "coe.load_mazeConfig()"
   ]
  },
  {
   "cell_type": "markdown",
   "id": "863c813e",
   "metadata": {},
   "source": [
    "# 4. Display NS and RT"
   ]
  },
  {
   "cell_type": "markdown",
   "id": "819d0bc2",
   "metadata": {},
   "source": [
    "### a. Display NS memory"
   ]
  },
  {
   "cell_type": "code",
   "execution_count": 4,
   "id": "2c7e2687",
   "metadata": {},
   "outputs": [
    {
     "name": "stdout",
     "output_type": "stream",
     "text": [
      "NEXT STATE MEMORY\n",
      "S000:  005 | 001 | 000 | 000 |\n",
      "S001:  001 | 002 | 000 | 001 |\n",
      "S002:  002 | 003 | 001 | 002 |\n",
      "S003:  003 | 004 | 002 | 003 |\n",
      "S004:  009 | 004 | 003 | 004 |\n",
      "S005:  005 | 006 | 005 | 000 |\n",
      "S006:  011 | 006 | 005 | 006 |\n",
      "S007:  012 | 008 | 007 | 007 |\n",
      "S008:  013 | 008 | 007 | 008 |\n",
      "S009:  014 | 009 | 009 | 004 |\n",
      "S010:  015 | 010 | 010 | 010 |\n",
      "S011:  016 | 012 | 011 | 006 |\n",
      "S012:  012 | 012 | 011 | 007 |\n",
      "S013:  013 | 013 | 013 | 008 |\n",
      "S014:  019 | 014 | 014 | 009 |\n",
      "S015:  020 | 016 | 015 | 010 |\n",
      "S016:  016 | 016 | 015 | 011 |\n",
      "S017:  022 | 018 | 017 | 017 |\n",
      "S018:  023 | 018 | 017 | 018 |\n",
      "S019:  024 | 019 | 019 | 014 |\n",
      "S020:  020 | 020 | 020 | 015 |\n",
      "S021:  021 | 022 | 021 | 021 |\n",
      "S022:  022 | 022 | 021 | 017 |\n",
      "S023:  023 | 024 | 023 | 018 |\n",
      "S024:  024 | 024 | 023 | 019 |\n"
     ]
    }
   ],
   "source": [
    "coe.print_NS()"
   ]
  },
  {
   "cell_type": "markdown",
   "id": "e9b717f6",
   "metadata": {},
   "source": [
    "### b. Display RT memory"
   ]
  },
  {
   "cell_type": "code",
   "execution_count": 7,
   "id": "ed2311e5",
   "metadata": {
    "scrolled": true
   },
   "outputs": [
    {
     "name": "stdout",
     "output_type": "stream",
     "text": [
      "REWARD MEMORY\n",
      "S000:   -1.0 |  -1.0 | -10.0 | -10.0 |\n",
      "S001:  -10.0 |  -1.0 |  -1.0 | -10.0 |\n",
      "S002:  -10.0 |  -1.0 |  -1.0 | -10.0 |\n",
      "S003:  -10.0 |  -1.0 |  -1.0 | -10.0 |\n",
      "S004:   -1.0 | -10.0 |  -1.0 | -10.0 |\n",
      "S005:  -10.0 |  -1.0 | -10.0 |  -1.0 |\n",
      "S006:   -1.0 | -10.0 |  -1.0 | -10.0 |\n",
      "S007:   -1.0 |  -1.0 | -10.0 | -10.0 |\n",
      "S008:   -1.0 | -10.0 |  -1.0 | -10.0 |\n",
      "S009:   -1.0 | -10.0 | -10.0 |  -1.0 |\n",
      "S010:   -1.0 | -10.0 | -10.0 | -10.0 |\n",
      "S011:   -1.0 |  -1.0 | -10.0 |  -1.0 |\n",
      "S012:  -10.0 | -10.0 |  -1.0 |  -1.0 |\n",
      "S013:  -10.0 | -10.0 | -10.0 |  -1.0 |\n",
      "S014:   -1.0 | -10.0 | -10.0 |  -1.0 |\n",
      "S015:   -1.0 |  -1.0 | -10.0 |  10.0 |\n",
      "S016:  -10.0 | -10.0 |  -1.0 |  -1.0 |\n",
      "S017:   -1.0 |  -1.0 | -10.0 | -10.0 |\n",
      "S018:   -1.0 | -10.0 |  -1.0 | -10.0 |\n",
      "S019:   -1.0 | -10.0 | -10.0 |  -1.0 |\n",
      "S020:  -10.0 | -10.0 | -10.0 |  -1.0 |\n",
      "S021:  -10.0 |  -1.0 | -10.0 | -10.0 |\n",
      "S022:  -10.0 | -10.0 |  -1.0 |  -1.0 |\n",
      "S023:  -10.0 |  -1.0 | -10.0 |  -1.0 |\n",
      "S024:  -10.0 | -10.0 |  -1.0 |  -1.0 |\n"
     ]
    }
   ],
   "source": [
    "coe.print_RT()"
   ]
  },
  {
   "cell_type": "markdown",
   "id": "f5aa9276",
   "metadata": {},
   "source": [
    "# 5. Choose Goal State"
   ]
  },
  {
   "cell_type": "code",
   "execution_count": 6,
   "id": "9a23b92f",
   "metadata": {
    "scrolled": false
   },
   "outputs": [
    {
     "name": "stdout",
     "output_type": "stream",
     "text": [
      "Selected Maze Map\n"
     ]
    },
    {
     "data": {
      "text/html": [
       "<img src=\"data:image/svg+xml;base64,PD94bWwgdmVyc2lvbj0iMS4wIiBlbmNvZGluZz0idXRmLTgiPz4NCjxzdmcgeG1sbnM9Imh0dHA6Ly93d3cudzMub3JnLzIwMDAvc3ZnIg0KICAgIHhtbG5zOnhsaW5rPSJodHRwOi8vd3d3LnczLm9yZy8xOTk5L3hsaW5rIg0KICAgIHdpZHRoPSIxMDIwIiBoZWlnaHQ9IjEwMjAiIHZpZXdCb3g9Ii0xMCAtMTAgMTAyMCAxMDIwIj4NCjxkZWZzPg0KPHN0eWxlIHR5cGU9InRleHQvY3NzIj48IVtDREFUQVsNCmxpbmUgew0KICAgIHN0cm9rZTogIzAwMDAwMDsNCiAgICBzdHJva2UtbGluZWNhcDogc3F1YXJlOw0KICAgIHN0cm9rZS13aWR0aDogNDsNCn0NCl1dPg0KLnNtYWxsIHsgZm9udDogYm9sZCA0MC4wcHggc2Fucy1zZXJpZjsNCiAgICAgICAgIGZpbGw6IGxpZ2h0Z3JheTsgfX0NCjwvc3R5bGU+DQoNCjwvZGVmcz4NCjxyZWN0IHg9IjAuMCIgeT0iMC4wIiB3aWR0aD0iMjAwLjAiIGhlaWdodD0iMjAwLjAiIGZpbGw9Im5vbmUiIHN0cm9rZT0iZ3JheSIgc3Ryb2tlLXdpZHRoPSIxIi8+DQo8cmVjdCB4PSIwLjAiIHk9IjIwMC4wIiB3aWR0aD0iMjAwLjAiIGhlaWdodD0iMjAwLjAiIGZpbGw9Im5vbmUiIHN0cm9rZT0iZ3JheSIgc3Ryb2tlLXdpZHRoPSIxIi8+DQo8cmVjdCB4PSIwLjAiIHk9IjQwMC4wIiB3aWR0aD0iMjAwLjAiIGhlaWdodD0iMjAwLjAiIGZpbGw9Im5vbmUiIHN0cm9rZT0iZ3JheSIgc3Ryb2tlLXdpZHRoPSIxIi8+DQo8cmVjdCB4PSIwLjAiIHk9IjYwMC4wIiB3aWR0aD0iMjAwLjAiIGhlaWdodD0iMjAwLjAiIGZpbGw9Im5vbmUiIHN0cm9rZT0iZ3JheSIgc3Ryb2tlLXdpZHRoPSIxIi8+DQo8cmVjdCB4PSIwLjAiIHk9IjgwMC4wIiB3aWR0aD0iMjAwLjAiIGhlaWdodD0iMjAwLjAiIGZpbGw9Im5vbmUiIHN0cm9rZT0iZ3JheSIgc3Ryb2tlLXdpZHRoPSIxIi8+DQo8cmVjdCB4PSIyMDAuMCIgeT0iMC4wIiB3aWR0aD0iMjAwLjAiIGhlaWdodD0iMjAwLjAiIGZpbGw9Im5vbmUiIHN0cm9rZT0iZ3JheSIgc3Ryb2tlLXdpZHRoPSIxIi8+DQo8cmVjdCB4PSIyMDAuMCIgeT0iMjAwLjAiIHdpZHRoPSIyMDAuMCIgaGVpZ2h0PSIyMDAuMCIgZmlsbD0ibm9uZSIgc3Ryb2tlPSJncmF5IiBzdHJva2Utd2lkdGg9IjEiLz4NCjxyZWN0IHg9IjIwMC4wIiB5PSI0MDAuMCIgd2lkdGg9IjIwMC4wIiBoZWlnaHQ9IjIwMC4wIiBmaWxsPSJub25lIiBzdHJva2U9ImdyYXkiIHN0cm9rZS13aWR0aD0iMSIvPg0KPHJlY3QgeD0iMjAwLjAiIHk9IjYwMC4wIiB3aWR0aD0iMjAwLjAiIGhlaWdodD0iMjAwLjAiIGZpbGw9Im5vbmUiIHN0cm9rZT0iZ3JheSIgc3Ryb2tlLXdpZHRoPSIxIi8+DQo8cmVjdCB4PSIyMDAuMCIgeT0iODAwLjAiIHdpZHRoPSIyMDAuMCIgaGVpZ2h0PSIyMDAuMCIgZmlsbD0ibm9uZSIgc3Ryb2tlPSJncmF5IiBzdHJva2Utd2lkdGg9IjEiLz4NCjxyZWN0IHg9IjQwMC4wIiB5PSIwLjAiIHdpZHRoPSIyMDAuMCIgaGVpZ2h0PSIyMDAuMCIgZmlsbD0ibm9uZSIgc3Ryb2tlPSJncmF5IiBzdHJva2Utd2lkdGg9IjEiLz4NCjxyZWN0IHg9IjQwMC4wIiB5PSIyMDAuMCIgd2lkdGg9IjIwMC4wIiBoZWlnaHQ9IjIwMC4wIiBmaWxsPSJub25lIiBzdHJva2U9ImdyYXkiIHN0cm9rZS13aWR0aD0iMSIvPg0KPHJlY3QgeD0iNDAwLjAiIHk9IjQwMC4wIiB3aWR0aD0iMjAwLjAiIGhlaWdodD0iMjAwLjAiIGZpbGw9Im5vbmUiIHN0cm9rZT0iZ3JheSIgc3Ryb2tlLXdpZHRoPSIxIi8+DQo8cmVjdCB4PSI0MDAuMCIgeT0iNjAwLjAiIHdpZHRoPSIyMDAuMCIgaGVpZ2h0PSIyMDAuMCIgZmlsbD0ibm9uZSIgc3Ryb2tlPSJncmF5IiBzdHJva2Utd2lkdGg9IjEiLz4NCjxyZWN0IHg9IjQwMC4wIiB5PSI4MDAuMCIgd2lkdGg9IjIwMC4wIiBoZWlnaHQ9IjIwMC4wIiBmaWxsPSJub25lIiBzdHJva2U9ImdyYXkiIHN0cm9rZS13aWR0aD0iMSIvPg0KPHJlY3QgeD0iNjAwLjAiIHk9IjAuMCIgd2lkdGg9IjIwMC4wIiBoZWlnaHQ9IjIwMC4wIiBmaWxsPSJub25lIiBzdHJva2U9ImdyYXkiIHN0cm9rZS13aWR0aD0iMSIvPg0KPHJlY3QgeD0iNjAwLjAiIHk9IjIwMC4wIiB3aWR0aD0iMjAwLjAiIGhlaWdodD0iMjAwLjAiIGZpbGw9Im5vbmUiIHN0cm9rZT0iZ3JheSIgc3Ryb2tlLXdpZHRoPSIxIi8+DQo8cmVjdCB4PSI2MDAuMCIgeT0iNDAwLjAiIHdpZHRoPSIyMDAuMCIgaGVpZ2h0PSIyMDAuMCIgZmlsbD0ibm9uZSIgc3Ryb2tlPSJncmF5IiBzdHJva2Utd2lkdGg9IjEiLz4NCjxyZWN0IHg9IjYwMC4wIiB5PSI2MDAuMCIgd2lkdGg9IjIwMC4wIiBoZWlnaHQ9IjIwMC4wIiBmaWxsPSJub25lIiBzdHJva2U9ImdyYXkiIHN0cm9rZS13aWR0aD0iMSIvPg0KPHJlY3QgeD0iNjAwLjAiIHk9IjgwMC4wIiB3aWR0aD0iMjAwLjAiIGhlaWdodD0iMjAwLjAiIGZpbGw9Im5vbmUiIHN0cm9rZT0iZ3JheSIgc3Ryb2tlLXdpZHRoPSIxIi8+DQo8cmVjdCB4PSI4MDAuMCIgeT0iMC4wIiB3aWR0aD0iMjAwLjAiIGhlaWdodD0iMjAwLjAiIGZpbGw9Im5vbmUiIHN0cm9rZT0iZ3JheSIgc3Ryb2tlLXdpZHRoPSIxIi8+DQo8cmVjdCB4PSI4MDAuMCIgeT0iMjAwLjAiIHdpZHRoPSIyMDAuMCIgaGVpZ2h0PSIyMDAuMCIgZmlsbD0ibm9uZSIgc3Ryb2tlPSJncmF5IiBzdHJva2Utd2lkdGg9IjEiLz4NCjxyZWN0IHg9IjgwMC4wIiB5PSI0MDAuMCIgd2lkdGg9IjIwMC4wIiBoZWlnaHQ9IjIwMC4wIiBmaWxsPSJub25lIiBzdHJva2U9ImdyYXkiIHN0cm9rZS13aWR0aD0iMSIvPg0KPHJlY3QgeD0iODAwLjAiIHk9IjYwMC4wIiB3aWR0aD0iMjAwLjAiIGhlaWdodD0iMjAwLjAiIGZpbGw9Im5vbmUiIHN0cm9rZT0iZ3JheSIgc3Ryb2tlLXdpZHRoPSIxIi8+DQo8cmVjdCB4PSI4MDAuMCIgeT0iODAwLjAiIHdpZHRoPSIyMDAuMCIgaGVpZ2h0PSIyMDAuMCIgZmlsbD0ibm9uZSIgc3Ryb2tlPSJncmF5IiBzdHJva2Utd2lkdGg9IjEiLz4NCg0KPHRleHQgeD0iMjAuMCIgeT0iNjAuMCIgY2xhc3M9InNtYWxsIj5TMDwvdGV4dD4NCjx0ZXh0IHg9IjIwLjAiIHk9IjI2MC4wIiBjbGFzcz0ic21hbGwiPlM1PC90ZXh0Pg0KPHRleHQgeD0iMjAuMCIgeT0iNDU5Ljk5OTk5OTk5OTk5OTk0IiBjbGFzcz0ic21hbGwiPlMxMDwvdGV4dD4NCjx0ZXh0IHg9IjIwLjAiIHk9IjY2MC4wIiBjbGFzcz0ic21hbGwiPlMxNTwvdGV4dD4NCjx0ZXh0IHg9IjIwLjAiIHk9Ijg2MC4wIiBjbGFzcz0ic21hbGwiPlMyMDwvdGV4dD4NCjx0ZXh0IHg9IjIyMC4wMDAwMDAwMDAwMDAwMyIgeT0iNjAuMCIgY2xhc3M9InNtYWxsIj5TMTwvdGV4dD4NCjx0ZXh0IHg9IjIyMC4wMDAwMDAwMDAwMDAwMyIgeT0iMjYwLjAiIGNsYXNzPSJzbWFsbCI+UzY8L3RleHQ+DQo8dGV4dCB4PSIyMjAuMDAwMDAwMDAwMDAwMDMiIHk9IjQ1OS45OTk5OTk5OTk5OTk5NCIgY2xhc3M9InNtYWxsIj5TMTE8L3RleHQ+DQo8dGV4dCB4PSIyMjAuMDAwMDAwMDAwMDAwMDMiIHk9IjY2MC4wIiBjbGFzcz0ic21hbGwiPlMxNjwvdGV4dD4NCjx0ZXh0IHg9IjIyMC4wMDAwMDAwMDAwMDAwMyIgeT0iODYwLjAiIGNsYXNzPSJzbWFsbCI+UzIxPC90ZXh0Pg0KPHRleHQgeD0iNDIwLjAiIHk9IjYwLjAiIGNsYXNzPSJzbWFsbCI+UzI8L3RleHQ+DQo8dGV4dCB4PSI0MjAuMCIgeT0iMjYwLjAiIGNsYXNzPSJzbWFsbCI+Uzc8L3RleHQ+DQo8dGV4dCB4PSI0MjAuMCIgeT0iNDU5Ljk5OTk5OTk5OTk5OTk0IiBjbGFzcz0ic21hbGwiPlMxMjwvdGV4dD4NCjx0ZXh0IHg9IjQyMC4wIiB5PSI2NjAuMCIgY2xhc3M9InNtYWxsIj5TMTc8L3RleHQ+DQo8dGV4dCB4PSI0MjAuMCIgeT0iODYwLjAiIGNsYXNzPSJzbWFsbCI+UzIyPC90ZXh0Pg0KPHRleHQgeD0iNjIwLjAiIHk9IjYwLjAiIGNsYXNzPSJzbWFsbCI+UzM8L3RleHQ+DQo8dGV4dCB4PSI2MjAuMCIgeT0iMjYwLjAiIGNsYXNzPSJzbWFsbCI+Uzg8L3RleHQ+DQo8dGV4dCB4PSI2MjAuMCIgeT0iNDU5Ljk5OTk5OTk5OTk5OTk0IiBjbGFzcz0ic21hbGwiPlMxMzwvdGV4dD4NCjx0ZXh0IHg9IjYyMC4wIiB5PSI2NjAuMCIgY2xhc3M9InNtYWxsIj5TMTg8L3RleHQ+DQo8dGV4dCB4PSI2MjAuMCIgeT0iODYwLjAiIGNsYXNzPSJzbWFsbCI+UzIzPC90ZXh0Pg0KPHRleHQgeD0iODE5Ljk5OTk5OTk5OTk5OTkiIHk9IjYwLjAiIGNsYXNzPSJzbWFsbCI+UzQ8L3RleHQ+DQo8dGV4dCB4PSI4MTkuOTk5OTk5OTk5OTk5OSIgeT0iMjYwLjAiIGNsYXNzPSJzbWFsbCI+Uzk8L3RleHQ+DQo8dGV4dCB4PSI4MTkuOTk5OTk5OTk5OTk5OSIgeT0iNDU5Ljk5OTk5OTk5OTk5OTk0IiBjbGFzcz0ic21hbGwiPlMxNDwvdGV4dD4NCjx0ZXh0IHg9IjgxOS45OTk5OTk5OTk5OTk5IiB5PSI2NjAuMCIgY2xhc3M9InNtYWxsIj5TMTk8L3RleHQ+DQo8dGV4dCB4PSI4MTkuOTk5OTk5OTk5OTk5OSIgeT0iODYwLjAiIGNsYXNzPSJzbWFsbCI+UzI0PC90ZXh0Pg0KDQo8bGluZSB4MT0iMC4wIiB5MT0iNDAwLjAiIHgyPSIyMDAuMCIgeTI9IjQwMC4wIi8+DQo8bGluZSB4MT0iMjAwLjAiIHkxPSI0MDAuMCIgeDI9IjIwMC4wIiB5Mj0iNjAwLjAiLz4NCjxsaW5lIHgxPSIwLjAiIHkxPSIxMDAwLjAiIHgyPSIyMDAuMCIgeTI9IjEwMDAuMCIvPg0KPGxpbmUgeDE9IjIwMC4wIiB5MT0iODAwLjAiIHgyPSIyMDAuMCIgeTI9IjEwMDAuMCIvPg0KPGxpbmUgeDE9IjIwMC4wIiB5MT0iMjAwLjAiIHgyPSI0MDAuMCIgeTI9IjIwMC4wIi8+DQo8bGluZSB4MT0iNDAwLjAiIHkxPSIyMDAuMCIgeDI9IjQwMC4wIiB5Mj0iNDAwLjAiLz4NCjxsaW5lIHgxPSIyMDAuMCIgeTE9IjgwMC4wIiB4Mj0iNDAwLjAiIHkyPSI4MDAuMCIvPg0KPGxpbmUgeDE9IjQwMC4wIiB5MT0iNjAwLjAiIHgyPSI0MDAuMCIgeTI9IjgwMC4wIi8+DQo8bGluZSB4MT0iMjAwLjAiIHkxPSIxMDAwLjAiIHgyPSI0MDAuMCIgeTI9IjEwMDAuMCIvPg0KPGxpbmUgeDE9IjQwMC4wIiB5MT0iMjAwLjAiIHgyPSI2MDAuMCIgeTI9IjIwMC4wIi8+DQo8bGluZSB4MT0iNDAwLjAiIHkxPSI2MDAuMCIgeDI9IjYwMC4wIiB5Mj0iNjAwLjAiLz4NCjxsaW5lIHgxPSI2MDAuMCIgeTE9IjQwMC4wIiB4Mj0iNjAwLjAiIHkyPSI2MDAuMCIvPg0KPGxpbmUgeDE9IjQwMC4wIiB5MT0iMTAwMC4wIiB4Mj0iNjAwLjAiIHkyPSIxMDAwLjAiLz4NCjxsaW5lIHgxPSI2MDAuMCIgeTE9IjgwMC4wIiB4Mj0iNjAwLjAiIHkyPSIxMDAwLjAiLz4NCjxsaW5lIHgxPSI2MDAuMCIgeTE9IjIwMC4wIiB4Mj0iODAwLjAiIHkyPSIyMDAuMCIvPg0KPGxpbmUgeDE9IjgwMC4wIiB5MT0iMjAwLjAiIHgyPSI4MDAuMCIgeTI9IjQwMC4wIi8+DQo8bGluZSB4MT0iNjAwLjAiIHkxPSI2MDAuMCIgeDI9IjgwMC4wIiB5Mj0iNjAwLjAiLz4NCjxsaW5lIHgxPSI4MDAuMCIgeTE9IjQwMC4wIiB4Mj0iODAwLjAiIHkyPSI2MDAuMCIvPg0KPGxpbmUgeDE9IjgwMC4wIiB5MT0iNjAwLjAiIHgyPSI4MDAuMCIgeTI9IjgwMC4wIi8+DQo8bGluZSB4MT0iNjAwLjAiIHkxPSIxMDAwLjAiIHgyPSI4MDAuMCIgeTI9IjEwMDAuMCIvPg0KPGxpbmUgeDE9IjEwMDAuMCIgeTE9IjAuMCIgeDI9IjEwMDAuMCIgeTI9IjIwMC4wIi8+DQo8bGluZSB4MT0iMTAwMC4wIiB5MT0iMjAwLjAiIHgyPSIxMDAwLjAiIHkyPSI0MDAuMCIvPg0KPGxpbmUgeDE9IjEwMDAuMCIgeTE9IjQwMC4wIiB4Mj0iMTAwMC4wIiB5Mj0iNjAwLjAiLz4NCjxsaW5lIHgxPSIxMDAwLjAiIHkxPSI2MDAuMCIgeDI9IjEwMDAuMCIgeTI9IjgwMC4wIi8+DQo8bGluZSB4MT0iODAwLjAiIHkxPSIxMDAwLjAiIHgyPSIxMDAwLjAiIHkyPSIxMDAwLjAiLz4NCjxsaW5lIHgxPSIxMDAwLjAiIHkxPSI4MDAuMCIgeDI9IjEwMDAuMCIgeTI9IjEwMDAuMCIvPg0KDQo8bGluZSB4MT0iMCIgeTE9IjAiIHgyPSIxMDAwIiB5Mj0iMCIvPg0KPGxpbmUgeDE9IjAiIHkxPSIwIiB4Mj0iMCIgeTI9IjEwMDAiLz4NCjwvc3ZnPg0K\" width=\"80%\"/>"
      ],
      "text/plain": [
       "<IPython.core.display.HTML object>"
      ]
     },
     "metadata": {},
     "output_type": "display_data"
    },
    {
     "name": "stdout",
     "output_type": "stream",
     "text": [
      "Goal State (0-24): 10\n",
      "Maze Goal is S010\n",
      "Current Reward list updated.\n"
     ]
    }
   ],
   "source": [
    "coe.add_goal_state(\"80%\")"
   ]
  },
  {
   "cell_type": "markdown",
   "id": "168b680e",
   "metadata": {},
   "source": [
    "# 6. Generate COE files"
   ]
  },
  {
   "cell_type": "markdown",
   "id": "c9e93695",
   "metadata": {},
   "source": [
    "### a. Set Data Format\n",
    "The **state transition** and **reward** matrices will be stored in fixed point and written as integer. The user have to define the `data_width` and `fraction_bit` to match the RTL simulation format."
   ]
  },
  {
   "cell_type": "code",
   "execution_count": 8,
   "id": "da8bfbbf",
   "metadata": {},
   "outputs": [],
   "source": [
    "data_width = 32\n",
    "fraction_bit = 16"
   ]
  },
  {
   "cell_type": "markdown",
   "id": "73a3df9e",
   "metadata": {},
   "source": [
    "### b. Generate COE files\n",
    "- The number of COE file that will be generated for the state transition matrix is equal to the number of action. \n",
    "- For the reward matrix, only a single "
   ]
  },
  {
   "cell_type": "code",
   "execution_count": 9,
   "id": "b129f43b",
   "metadata": {},
   "outputs": [
    {
     "name": "stdout",
     "output_type": "stream",
     "text": [
      "File 'D:\\PME_ITB\\Repositories\\Grid-Maze-Generator-Script\\results\\230216_05X05_1\\COE_S25G10_Q32.16' created\n",
      "In D:\\PME_ITB\\Repositories\\Grid-Maze-Generator-Script\\results\\230216_05X05_1\\COE_S25G10_Q32.16:\n",
      "\tGenerated S25_NS0_MEM.coe\n",
      "\tGenerated S25_NS1_MEM.coe\n",
      "\tGenerated S25_NS2_MEM.coe\n",
      "\tGenerated S25_NS3_MEM.coe\n",
      "\tGenerated S25_RT_MEM.coe\n"
     ]
    }
   ],
   "source": [
    "coe.gen_COE(data_width, fraction_bit)"
   ]
  },
  {
   "cell_type": "code",
   "execution_count": null,
   "id": "458c72a8",
   "metadata": {},
   "outputs": [],
   "source": []
  }
 ],
 "metadata": {
  "kernelspec": {
   "display_name": "Python 3 (ipykernel)",
   "language": "python",
   "name": "python3"
  },
  "language_info": {
   "codemirror_mode": {
    "name": "ipython",
    "version": 3
   },
   "file_extension": ".py",
   "mimetype": "text/x-python",
   "name": "python",
   "nbconvert_exporter": "python",
   "pygments_lexer": "ipython3",
   "version": "3.10.0"
  },
  "vscode": {
   "interpreter": {
    "hash": "cfbecc6b7b02738b8f46f7104a81cce25d19a20dda612d7992deb4b3b8dee98d"
   }
  }
 },
 "nbformat": 4,
 "nbformat_minor": 5
}
